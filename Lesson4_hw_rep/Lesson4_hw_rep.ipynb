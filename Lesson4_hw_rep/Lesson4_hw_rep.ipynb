{
 "cells": [
  {
   "cell_type": "markdown",
   "id": "b72e5d90",
   "metadata": {},
   "source": [
    "### Задания на повторение материала"
   ]
  },
  {
   "cell_type": "code",
   "execution_count": 1,
   "id": "8fa2caeb",
   "metadata": {},
   "outputs": [],
   "source": [
    "import numpy as np"
   ]
  },
  {
   "cell_type": "markdown",
   "id": "4f766e02",
   "metadata": {},
   "source": [
    "#### Задание 1"
   ]
  },
  {
   "cell_type": "code",
   "execution_count": 5,
   "id": "6d735618",
   "metadata": {},
   "outputs": [
    {
     "data": {
      "text/plain": [
       "array([12, 13, 14, 15, 16, 17, 18, 19, 20, 21, 22, 23])"
      ]
     },
     "execution_count": 5,
     "metadata": {},
     "output_type": "execute_result"
    }
   ],
   "source": [
    "a = np.arange(12, 24, 1)\n",
    "a"
   ]
  },
  {
   "cell_type": "markdown",
   "id": "3381b344",
   "metadata": {},
   "source": [
    "#### Задание 2"
   ]
  },
  {
   "cell_type": "code",
   "execution_count": 13,
   "id": "4b212094",
   "metadata": {},
   "outputs": [],
   "source": [
    "a1 = a.reshape(6, 2)\n",
    "a2 = a.reshape(3, 4)\n",
    "a3 = a.reshape(2, 6)\n",
    "a4 = a.reshape(4, 3)\n",
    "a5 = a.reshape(4, 3, order='F')"
   ]
  },
  {
   "cell_type": "markdown",
   "id": "b8c177d2",
   "metadata": {},
   "source": [
    "#### Задание 3"
   ]
  },
  {
   "cell_type": "code",
   "execution_count": 22,
   "id": "a7f1b25c",
   "metadata": {},
   "outputs": [],
   "source": [
    "a1 = a.reshape(-1, 2)\n",
    "a2 = a.reshape(-1, 3)\n",
    "a3 = a.reshape(2, -1)\n",
    "a4 = a.reshape(3, -1)\n",
    "a5 = a.reshape(3, -1, order='F')"
   ]
  },
  {
   "cell_type": "markdown",
   "id": "acaf2c1f",
   "metadata": {},
   "source": [
    "#### Задание 4"
   ]
  },
  {
   "cell_type": "code",
   "execution_count": 26,
   "id": "b204d167",
   "metadata": {},
   "outputs": [
    {
     "data": {
      "text/plain": [
       "(array([[12],\n",
       "        [13],\n",
       "        [14],\n",
       "        [15],\n",
       "        [16],\n",
       "        [17],\n",
       "        [18],\n",
       "        [19],\n",
       "        [20],\n",
       "        [21],\n",
       "        [22],\n",
       "        [23]]),\n",
       " array([[12, 13, 14, 15, 16, 17, 18, 19, 20, 21, 22, 23]]))"
      ]
     },
     "execution_count": 26,
     "metadata": {},
     "output_type": "execute_result"
    }
   ],
   "source": [
    "b = np.array([[12], [13], [14], [15], [16], [17], [18], [19], [20], [21], [22], [23]])\n",
    "b1 = b.T\n",
    "b, b1\n",
    "# такой массив можно назвать одномерным только формально. Егот в том числе можно транспонировать.\n",
    "# истинно одномерный массив, например, 'a' транспонировать методом numpy не получается.\n",
    "# работа с одномерными и двумерными массивами в данном примере различается"
   ]
  },
  {
   "cell_type": "markdown",
   "id": "abe6a099",
   "metadata": {},
   "source": [
    "#### Задание 5"
   ]
  },
  {
   "cell_type": "code",
   "execution_count": 33,
   "id": "9f4b870d",
   "metadata": {
    "scrolled": true
   },
   "outputs": [
    {
     "name": "stdout",
     "output_type": "stream",
     "text": [
      "Размерность оригинального двумерного массива: 12\n",
      "Размерность оодномерного массива: 12\n"
     ]
    }
   ],
   "source": [
    "c = np.random.randn(3, 4)\n",
    "print(f'Размерность оригинального двумерного массива: {c.size}')\n",
    "c = c.flatten()\n",
    "print(f'Размерность оодномерного массива: {c.size}')"
   ]
  },
  {
   "cell_type": "markdown",
   "id": "4e10dd98",
   "metadata": {},
   "source": [
    "#### Задание 6"
   ]
  },
  {
   "cell_type": "code",
   "execution_count": 40,
   "id": "85371260",
   "metadata": {},
   "outputs": [
    {
     "data": {
      "text/plain": [
       "array([20, 18, 16, 14, 12, 10,  8,  6,  4,  2])"
      ]
     },
     "execution_count": 40,
     "metadata": {},
     "output_type": "execute_result"
    }
   ],
   "source": [
    "a = np.arange(20, 0, -2, dtype=int)\n",
    "a"
   ]
  },
  {
   "cell_type": "markdown",
   "id": "0a3d340d",
   "metadata": {},
   "source": [
    "#### Задание 7"
   ]
  },
  {
   "cell_type": "code",
   "execution_count": 45,
   "id": "bb1a509e",
   "metadata": {},
   "outputs": [
    {
     "data": {
      "text/plain": [
       "array([20, 18, 16, 14, 12, 10,  8,  6,  4,  2])"
      ]
     },
     "execution_count": 45,
     "metadata": {},
     "output_type": "execute_result"
    }
   ],
   "source": [
    "b = np.arange(20, 1, -2, dtype=int)\n",
    "b\n",
    "# не вижу разницы\n",
    "# либо задание с подвохом, а во втором случае по условию подразумевается двумерный массив "
   ]
  },
  {
   "cell_type": "markdown",
   "id": "9adf9cbb",
   "metadata": {},
   "source": [
    "#### Задание 8"
   ]
  },
  {
   "cell_type": "code",
   "execution_count": 53,
   "id": "723b7479",
   "metadata": {},
   "outputs": [
    {
     "name": "stdout",
     "output_type": "stream",
     "text": [
      "[[0. 0.]\n",
      " [0. 0.]\n",
      " [1. 1.]\n",
      " [1. 1.]\n",
      " [1. 1.]]\n",
      "Size: 10\n"
     ]
    }
   ],
   "source": [
    "a = np.zeros((2, 2))\n",
    "b = np.ones((3, 2))\n",
    "v = np.vstack((a, b))\n",
    "print(v)\n",
    "print(f'Size: {v.size}')"
   ]
  },
  {
   "cell_type": "markdown",
   "id": "2a2461ba",
   "metadata": {},
   "source": [
    "#### Задание 9"
   ]
  },
  {
   "cell_type": "code",
   "execution_count": 59,
   "id": "4362d0b3",
   "metadata": {},
   "outputs": [
    {
     "data": {
      "text/plain": [
       "(array([[ 0,  1,  2],\n",
       "        [ 3,  4,  5],\n",
       "        [ 6,  7,  8],\n",
       "        [ 9, 10, 11]]),\n",
       " array([[ 0,  3,  6,  9],\n",
       "        [ 1,  4,  7, 10],\n",
       "        [ 2,  5,  8, 11]]))"
      ]
     },
     "execution_count": 59,
     "metadata": {},
     "output_type": "execute_result"
    }
   ],
   "source": [
    "a = np.arange(12)\n",
    "A = a.reshape(4, 3)\n",
    "At = A.T\n",
    "A, At"
   ]
  },
  {
   "cell_type": "code",
   "execution_count": 61,
   "id": "4a22b88e",
   "metadata": {},
   "outputs": [
    {
     "data": {
      "text/plain": [
       "array([[  5,  14,  23,  32],\n",
       "       [ 14,  50,  86, 122],\n",
       "       [ 23,  86, 149, 212],\n",
       "       [ 32, 122, 212, 302]])"
      ]
     },
     "execution_count": 61,
     "metadata": {},
     "output_type": "execute_result"
    }
   ],
   "source": [
    "B = np.dot(A, At)\n",
    "B"
   ]
  },
  {
   "cell_type": "markdown",
   "id": "d35a68d4",
   "metadata": {},
   "source": [
    "#### Задание 10"
   ]
  },
  {
   "cell_type": "code",
   "execution_count": 63,
   "id": "7c80b887",
   "metadata": {},
   "outputs": [],
   "source": [
    "np.random.seed(42)"
   ]
  },
  {
   "cell_type": "markdown",
   "id": "24591850",
   "metadata": {},
   "source": [
    "#### Задание 11"
   ]
  },
  {
   "cell_type": "code",
   "execution_count": 72,
   "id": "a754e967",
   "metadata": {},
   "outputs": [
    {
     "data": {
      "text/plain": [
       "array([11, 11, 12,  8, 12, 14, 12,  0,  8,  6,  8,  7,  0, 11,  7,  7])"
      ]
     },
     "execution_count": 72,
     "metadata": {},
     "output_type": "execute_result"
    }
   ],
   "source": [
    "c = np.random.randint(0, 16, 16)\n",
    "c"
   ]
  },
  {
   "cell_type": "markdown",
   "id": "bacfdd56",
   "metadata": {},
   "source": [
    "#### Задание 12"
   ]
  },
  {
   "cell_type": "code",
   "execution_count": 83,
   "id": "d29d8510",
   "metadata": {},
   "outputs": [
    {
     "name": "stdout",
     "output_type": "stream",
     "text": [
      "Определитель: 69479600.00000006\n",
      "Ранг: 4\n"
     ]
    },
    {
     "data": {
      "text/plain": [
       "(array([[115, 124, 143, 112],\n",
       "        [134, 190, 206, 122],\n",
       "        [103, 146, 229, 282],\n",
       "        [ 32, 232, 282, 372]]),\n",
       " array([[ 0.02744115, -0.01370589, -0.00252218, -0.00185493],\n",
       "        [ 0.03778922, -0.01590366, -0.02562162,  0.01326116],\n",
       "        [-0.06777759,  0.03968071,  0.02845555, -0.01417855],\n",
       "        [ 0.02545179, -0.01898313, -0.0053751 ,  0.00532559]]))"
      ]
     },
     "execution_count": 83,
     "metadata": {},
     "output_type": "execute_result"
    }
   ],
   "source": [
    "C = c.reshape(4, 4)\n",
    "D = B + C * 10\n",
    "# определитель\n",
    "print(f'Определитель: {np.linalg.det(D)}')\n",
    "# ранг\n",
    "print(f'Ранг: {np.linalg.matrix_rank(D)}')\n",
    "# обратная матрица\n",
    "D_inv = np.linalg.inv(D)\n",
    "D, D_inv\n",
    "# np.dot(D, D_inv)"
   ]
  },
  {
   "cell_type": "code",
   "execution_count": null,
   "id": "09538586",
   "metadata": {},
   "outputs": [],
   "source": []
  }
 ],
 "metadata": {
  "kernelspec": {
   "display_name": "Python 3 (ipykernel)",
   "language": "python",
   "name": "python3"
  },
  "language_info": {
   "codemirror_mode": {
    "name": "ipython",
    "version": 3
   },
   "file_extension": ".py",
   "mimetype": "text/x-python",
   "name": "python",
   "nbconvert_exporter": "python",
   "pygments_lexer": "ipython3",
   "version": "3.9.12"
  }
 },
 "nbformat": 4,
 "nbformat_minor": 5
}
